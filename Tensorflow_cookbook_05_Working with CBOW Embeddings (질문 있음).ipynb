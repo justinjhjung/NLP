{
 "cells": [
  {
   "cell_type": "code",
   "execution_count": 1,
   "metadata": {},
   "outputs": [
    {
     "name": "stderr",
     "output_type": "stream",
     "text": [
      "C:\\Users\\snuist\\Anaconda3\\lib\\site-packages\\h5py\\__init__.py:34: FutureWarning: Conversion of the second argument of issubdtype from `float` to `np.floating` is deprecated. In future, it will be treated as `np.float64 == np.dtype(float).type`.\n",
      "  from ._conv import register_converters as _register_converters\n"
     ]
    }
   ],
   "source": [
    "import tensorflow as tf\n",
    "import matplotlib.pyplot as plt\n",
    "import numpy as np\n",
    "import random\n",
    "import os\n",
    "import pickle\n",
    "import string\n",
    "import requests\n",
    "import collections\n",
    "import io\n",
    "import tarfile\n",
    "import urllib.request\n",
    "from nltk.corpus import stopwords\n",
    "from tensorflow.python.framework import ops\n",
    "ops.reset_default_graph()\n",
    "\n",
    "# Load text helpers\n",
    "import text_helpers"
   ]
  },
  {
   "cell_type": "code",
   "execution_count": 2,
   "metadata": {
    "collapsed": true
   },
   "outputs": [],
   "source": [
    "data_folder_name = 'temp'\n",
    "if not os.path.exists(data_folder_name):\n",
    "    os.makedirs(data_folder_name)"
   ]
  },
  {
   "cell_type": "markdown",
   "metadata": {},
   "source": [
    "## 파라미터 세팅"
   ]
  },
  {
   "cell_type": "code",
   "execution_count": 3,
   "metadata": {
    "collapsed": true
   },
   "outputs": [],
   "source": [
    "sess = tf.Session()\n",
    "\n",
    "batch_size = 200            # Model Batch Size\n",
    "embedding_size = 50        # word embedding size\n",
    "vocabulary_size = 2000      # Maximum vocabulary size\n",
    "generations = 50000         # number of iterations for training.\n",
    "model_learning_rate = 0.05   # Learning rate\n",
    "\n",
    "num_sampled = int(batch_size/2) # Number of negative examples to sample.\n",
    "window_size = 3                 # How many words to consider left and right.\n",
    "\n",
    "# Add checkpoints to training\n",
    "save_embeddings_every = 5000\n",
    "print_valid_every = 5000\n",
    "print_loss_every = 1000"
   ]
  },
  {
   "cell_type": "markdown",
   "metadata": {},
   "source": [
    "## Data 로딩 및 전처리"
   ]
  },
  {
   "cell_type": "code",
   "execution_count": 4,
   "metadata": {},
   "outputs": [
    {
     "name": "stdout",
     "output_type": "stream",
     "text": [
      "Loading Data\n",
      "Normalizing Text Data\n",
      "Done.\n"
     ]
    }
   ],
   "source": [
    "# Declare stopwords\n",
    "stops = stopwords.words('english')\n",
    "\n",
    "# test words. We are expecting synonyms to appear\n",
    "valid_words = ['love', 'hate', 'happy', 'sad', 'man', 'woman']\n",
    "# Later we will have to transform these into indices\n",
    "\n",
    "# Load the movie review data\n",
    "print(\"Loading Data\")\n",
    "texts, target = text_helpers.load_movie_data()  # target: 0(negative)/1(positive)\n",
    "\n",
    "# Normalize text\n",
    "print(\"Normalizing Text Data\")\n",
    "texts = text_helpers.normalize_text(texts, stops)\n",
    "\n",
    "# Texts must contain at least 3 words\n",
    "target = [target[ix] for ix, x in enumerate(texts) if len(x.split())>2] \n",
    "texts = [x for x in texts if len(x.split())>2] # 너무 짧은 글은 제외\n",
    "print(\"Done.\")"
   ]
  },
  {
   "cell_type": "markdown",
   "metadata": {},
   "source": [
    "## Word Dictionary"
   ]
  },
  {
   "cell_type": "code",
   "execution_count": 5,
   "metadata": {},
   "outputs": [
    {
     "name": "stdout",
     "output_type": "stream",
     "text": [
      "Creating Dictionary\n"
     ]
    }
   ],
   "source": [
    "print(\"Creating Dictionary\")\n",
    "word_dictionary = text_helpers.build_dictionary(texts, vocabulary_size)\n",
    "word_dictionary_rev = dict(zip(word_dictionary.values(), word_dictionary.keys()))\n",
    "text_data = text_helpers.text_to_numbers(texts, word_dictionary)\n",
    "\n",
    "# Get validation word keys\n",
    "valid_examples = [word_dictionary[x] for x in valid_words]"
   ]
  },
  {
   "cell_type": "markdown",
   "metadata": {},
   "source": [
    "## CBOW model"
   ]
  },
  {
   "cell_type": "code",
   "execution_count": 6,
   "metadata": {},
   "outputs": [
    {
     "name": "stdout",
     "output_type": "stream",
     "text": [
      "Creating Model\n"
     ]
    }
   ],
   "source": [
    "print(\"Creating Model\")\n",
    "# Define embeddings\n",
    "embeddings = tf.Variable(tf.random_uniform([vocabulary_size, embedding_size], -1.0, 1.0))\n",
    "\n",
    "# NCE Loss\n",
    "nce_weights = tf.Variable(tf.truncated_normal([vocabulary_size, embedding_size],\n",
    "                                             stddev=1.0/np.sqrt(embedding_size)))\n",
    "nce_biases = tf.Variable(tf.zeros([vocabulary_size]))\n",
    "\n",
    "# Create data/target placeholders\n",
    "x_inputs = tf.placeholder(tf.int32, shape=[batch_size,2*window_size])\n",
    "y_target = tf.placeholder(tf.int32, shape=[batch_size, 1])\n",
    "valid_dataset = tf.constant(valid_examples, dtype=tf.int32)\n",
    "\n",
    "# Lookup the word embedding\n",
    "# Add together window embeddings:\n",
    "embed = tf.zeros([batch_size, embedding_size])\n",
    "for element in range(2*window_size):  # 문맥이 되는 단어들의 합을 사용하여 중심단어 추정\n",
    "    embed += tf.nn.embedding_lookup(embeddings, x_inputs[:, element])"
   ]
  },
  {
   "cell_type": "code",
   "execution_count": 7,
   "metadata": {
    "collapsed": true
   },
   "outputs": [],
   "source": [
    "loss = tf.reduce_mean(tf.nn.nce_loss(weights=nce_weights,\n",
    "                                     biases=nce_biases,\n",
    "                                     labels=y_target,\n",
    "                                     inputs=embed,\n",
    "                                     num_sampled=num_sampled,\n",
    "                                     num_classes=vocabulary_size))\n",
    "\n",
    "# Create optimizer\n",
    "optimizer = tf.train.GradientDescentOptimizer(learning_rate=model_learning_rate).minimize(loss)\n",
    "\n",
    "# Cosine similarity between words\n",
    "norm = tf.sqrt(tf.reduce_sum(tf.square(embeddings), 1, keepdims=True))\n",
    "normalized_embeddings = embeddings / norm\n",
    "valid_embeddings = tf.nn.embedding_lookup(normalized_embeddings, valid_dataset)\n",
    "similarity = tf.matmul(valid_embeddings, normalized_embeddings, transpose_b=True)"
   ]
  },
  {
   "cell_type": "markdown",
   "metadata": {},
   "source": [
    "## 모델 저장하기"
   ]
  },
  {
   "cell_type": "code",
   "execution_count": 8,
   "metadata": {
    "collapsed": true
   },
   "outputs": [],
   "source": [
    "# Create model saving operation\n",
    "saver = tf.train.Saver({\"embeddings\": embeddings})\n",
    "\n",
    "#Add variable initializer.\n",
    "init = tf.global_variables_initializer()\n",
    "sess.run(init)"
   ]
  },
  {
   "cell_type": "markdown",
   "metadata": {},
   "source": [
    "문맥의 길이를 2*window_size + 1로 정했기 때문에 이것보다 짧은 문장은 training에 있어 의미가 없다. 따라서 문장 길이가 7보다 긴 것들만 필터링해준다."
   ]
  },
  {
   "cell_type": "code",
   "execution_count": 9,
   "metadata": {
    "collapsed": true
   },
   "outputs": [],
   "source": [
    "text_data = [x for x in text_data if len(x) >= (2*window_size+1)]"
   ]
  },
  {
   "cell_type": "markdown",
   "metadata": {},
   "source": [
    "## 트레이닝"
   ]
  },
  {
   "cell_type": "code",
   "execution_count": 10,
   "metadata": {
    "scrolled": true
   },
   "outputs": [
    {
     "name": "stdout",
     "output_type": "stream",
     "text": [
      "Starting Training\n",
      "Loss at step 1000 : 9.67491626739502\n",
      "Loss at step 2000 : 6.243814468383789\n",
      "Loss at step 3000 : 5.550598621368408\n",
      "Loss at step 4000 : 5.641958236694336\n",
      "Loss at step 5000 : 4.849673748016357\n",
      "Nearest to love: exercise, anything, situations, striking, charismatic,\n",
      "Nearest to hate: career, relatively, head, brought, trek,\n",
      "Nearest to happy: choose, birthday, morality, told, needs,\n",
      "Nearest to sad: ask, fashion, gets, many, disappointing,\n",
      "Nearest to man: watching, wonderful, ludicrous, fascinating, obvious,\n",
      "Nearest to woman: form, j, amateurish, imagination, tribute,\n",
      "Model saved in file: C:\\Users\\snuist\\Dlearning\\NLP\\Tensorflow cookbook\\temp\\cbow_movie_embeddings.ckpt\n",
      "Loss at step 6000 : 5.111420631408691\n",
      "Loss at step 7000 : 5.047321319580078\n",
      "Loss at step 8000 : 4.750290393829346\n",
      "Loss at step 9000 : 4.610687732696533\n",
      "Loss at step 10000 : 4.788057327270508\n",
      "Nearest to love: exercise, anything, situations, charismatic, striking,\n",
      "Nearest to hate: career, relatively, head, brought, designed,\n",
      "Nearest to happy: choose, birthday, told, morality, needs,\n",
      "Nearest to sad: ask, gets, fashion, many, problem,\n",
      "Nearest to man: wonderful, watching, obvious, ludicrous, fascinating,\n",
      "Nearest to woman: form, j, amateurish, imagination, lines,\n",
      "Model saved in file: C:\\Users\\snuist\\Dlearning\\NLP\\Tensorflow cookbook\\temp\\cbow_movie_embeddings.ckpt\n",
      "Loss at step 11000 : 4.825859069824219\n",
      "Loss at step 12000 : 4.527589797973633\n",
      "Loss at step 13000 : 4.713764190673828\n",
      "Loss at step 14000 : 4.684839725494385\n",
      "Loss at step 15000 : 4.594109058380127\n",
      "Nearest to love: situations, anything, exercise, charismatic, striking,\n",
      "Nearest to hate: career, head, relatively, brought, designed,\n",
      "Nearest to happy: choose, birthday, told, morality, needs,\n",
      "Nearest to sad: ask, gets, fashion, problem, many,\n",
      "Nearest to man: wonderful, obvious, directs, disappointing, harvard,\n",
      "Nearest to woman: j, form, amateurish, imagination, lines,\n",
      "Model saved in file: C:\\Users\\snuist\\Dlearning\\NLP\\Tensorflow cookbook\\temp\\cbow_movie_embeddings.ckpt\n",
      "Loss at step 16000 : 4.544894218444824\n",
      "Loss at step 17000 : 4.14098596572876\n",
      "Loss at step 18000 : 4.400602340698242\n",
      "Loss at step 19000 : 4.10105562210083\n",
      "Loss at step 20000 : 4.085442543029785\n",
      "Nearest to love: situations, anything, exercise, charismatic, striking,\n",
      "Nearest to hate: career, head, relatively, brought, designed,\n",
      "Nearest to happy: choose, birthday, told, morality, needs,\n",
      "Nearest to sad: ask, fashion, gets, problem, many,\n",
      "Nearest to man: wonderful, directs, obvious, harvard, disappointing,\n",
      "Nearest to woman: j, form, amateurish, imagination, lines,\n",
      "Model saved in file: C:\\Users\\snuist\\Dlearning\\NLP\\Tensorflow cookbook\\temp\\cbow_movie_embeddings.ckpt\n",
      "Loss at step 21000 : 4.364433765411377\n",
      "Loss at step 22000 : 4.183600425720215\n",
      "Loss at step 23000 : 4.317311763763428\n",
      "Loss at step 24000 : 4.161993026733398\n",
      "Loss at step 25000 : 4.003443717956543\n",
      "Nearest to love: situations, anything, charismatic, exercise, striking,\n",
      "Nearest to hate: career, head, relatively, brought, designed,\n",
      "Nearest to happy: choose, birthday, told, morality, needs,\n",
      "Nearest to sad: ask, fashion, gets, problem, many,\n",
      "Nearest to man: wonderful, directs, harvard, obvious, sound,\n",
      "Nearest to woman: j, form, amateurish, lines, imagination,\n",
      "Model saved in file: C:\\Users\\snuist\\Dlearning\\NLP\\Tensorflow cookbook\\temp\\cbow_movie_embeddings.ckpt\n",
      "Loss at step 26000 : 4.191041946411133\n",
      "Loss at step 27000 : 3.915449857711792\n",
      "Loss at step 28000 : 4.213561058044434\n",
      "Loss at step 29000 : 4.061770439147949\n",
      "Loss at step 30000 : 3.817517042160034\n",
      "Nearest to love: situations, anything, charismatic, exercise, striking,\n",
      "Nearest to hate: career, head, relatively, brought, designed,\n",
      "Nearest to happy: choose, birthday, told, morality, needs,\n",
      "Nearest to sad: ask, fashion, problem, gets, die,\n",
      "Nearest to man: wonderful, directs, harvard, sound, insights,\n",
      "Nearest to woman: j, form, amateurish, lines, imagination,\n",
      "Model saved in file: C:\\Users\\snuist\\Dlearning\\NLP\\Tensorflow cookbook\\temp\\cbow_movie_embeddings.ckpt\n",
      "Loss at step 31000 : 4.236146450042725\n",
      "Loss at step 32000 : 3.888152837753296\n",
      "Loss at step 33000 : 4.168288230895996\n",
      "Loss at step 34000 : 4.097410678863525\n",
      "Loss at step 35000 : 3.9661104679107666\n",
      "Nearest to love: situations, charismatic, anything, striking, exercise,\n",
      "Nearest to hate: career, head, relatively, brought, place,\n",
      "Nearest to happy: choose, birthday, told, morality, needs,\n",
      "Nearest to sad: ask, fashion, problem, gets, die,\n",
      "Nearest to man: wonderful, directs, harvard, insights, sound,\n",
      "Nearest to woman: j, form, amateurish, lines, imagination,\n",
      "Model saved in file: C:\\Users\\snuist\\Dlearning\\NLP\\Tensorflow cookbook\\temp\\cbow_movie_embeddings.ckpt\n",
      "Loss at step 36000 : 4.055755615234375\n",
      "Loss at step 37000 : 3.9758028984069824\n",
      "Loss at step 38000 : 3.8035848140716553\n",
      "Loss at step 39000 : 4.166144847869873\n",
      "Loss at step 40000 : 3.903984785079956\n",
      "Nearest to love: situations, charismatic, anything, striking, exercise,\n",
      "Nearest to hate: career, head, relatively, brought, place,\n",
      "Nearest to happy: choose, birthday, told, morality, needs,\n",
      "Nearest to sad: ask, fashion, problem, gets, die,\n",
      "Nearest to man: wonderful, directs, harvard, insights, sound,\n",
      "Nearest to woman: j, form, amateurish, lines, imagination,\n",
      "Model saved in file: C:\\Users\\snuist\\Dlearning\\NLP\\Tensorflow cookbook\\temp\\cbow_movie_embeddings.ckpt\n",
      "Loss at step 41000 : 3.9693665504455566\n",
      "Loss at step 42000 : 3.6561009883880615\n",
      "Loss at step 43000 : 3.894360065460205\n",
      "Loss at step 44000 : 3.926947832107544\n",
      "Loss at step 45000 : 3.992842674255371\n",
      "Nearest to love: situations, charismatic, anything, striking, thin,\n",
      "Nearest to hate: career, head, relatively, brought, place,\n",
      "Nearest to happy: choose, birthday, told, morality, needs,\n",
      "Nearest to sad: ask, fashion, problem, die, gets,\n",
      "Nearest to man: wonderful, directs, insights, harvard, sound,\n",
      "Nearest to woman: j, form, amateurish, lines, season,\n",
      "Model saved in file: C:\\Users\\snuist\\Dlearning\\NLP\\Tensorflow cookbook\\temp\\cbow_movie_embeddings.ckpt\n",
      "Loss at step 46000 : 3.8105127811431885\n",
      "Loss at step 47000 : 3.901858329772949\n",
      "Loss at step 48000 : 4.038485527038574\n",
      "Loss at step 49000 : 3.9385616779327393\n",
      "Loss at step 50000 : 3.6136343479156494\n",
      "Nearest to love: situations, charismatic, anything, striking, hugh,\n",
      "Nearest to hate: career, head, relatively, place, brought,\n",
      "Nearest to happy: choose, birthday, told, morality, needs,\n",
      "Nearest to sad: ask, fashion, problem, die, gets,\n",
      "Nearest to man: wonderful, directs, insights, harvard, sound,\n",
      "Nearest to woman: j, form, amateurish, lines, season,\n",
      "Model saved in file: C:\\Users\\snuist\\Dlearning\\NLP\\Tensorflow cookbook\\temp\\cbow_movie_embeddings.ckpt\n"
     ]
    }
   ],
   "source": [
    "print(\"Starting Training\")\n",
    "loss_vec = []\n",
    "loss_x_vec = []\n",
    "for i in range(generations):\n",
    "    batch_inputs, batch_labels = text_helpers.generate_batch_data(text_data, batch_size,\n",
    "                                                                 window_size, method='cbow')\n",
    "    feed_dict = {x_inputs: batch_inputs, y_target: batch_labels}\n",
    "    \n",
    "    # Run the train step\n",
    "    sess.run(optimizer, feed_dict=feed_dict)\n",
    "    \n",
    "    # Return the loss\n",
    "    if (i+1)% print_loss_every==0:\n",
    "        loss_val = sess.run(loss, feed_dict=feed_dict)\n",
    "        loss_vec.append(loss_val)\n",
    "        loss_x_vec.append(i+1)\n",
    "        print('Loss at step {} : {}'.format(i+1, loss_val))\n",
    "        \n",
    "    # Validation: Print some random words and top 5 related words\n",
    "    if (i+1) % print_valid_every == 0:\n",
    "        sim = sess.run(similarity, feed_dict=feed_dict)\n",
    "        for j in range(len(valid_words)):\n",
    "            valid_word = word_dictionary_rev[valid_examples[j]]\n",
    "            top_k = 5\n",
    "            nearest = (-sim[j,:]).argsort()[1:top_k+1]\n",
    "            log_str = \"Nearest to {}:\".format(valid_word)\n",
    "            for k in range(top_k):\n",
    "                close_word = word_dictionary_rev[nearest[k]]\n",
    "                log_str = '{} {},'.format(log_str, close_word)\n",
    "            print(log_str)\n",
    "            \n",
    "    # Save dictionary + embeddings\n",
    "    if (i+1) % save_embeddings_every ==0:\n",
    "        with open(os.path.join(data_folder_name, 'movie_vocab.pkl'), 'wb') as f:\n",
    "            pickle.dump(word_dictionary, f)\n",
    "        \n",
    "        # Save embeddings\n",
    "        model_checkpoint_path = os.path.join(os.getcwd(),data_folder_name, 'cbow_movie_embeddings.ckpt')\n",
    "        save_path = saver.save(sess, model_checkpoint_path)\n",
    "        print('Model saved in file: {}'.format(save_path))"
   ]
  },
  {
   "cell_type": "markdown",
   "metadata": {},
   "source": [
    "## Plotting"
   ]
  },
  {
   "cell_type": "code",
   "execution_count": 11,
   "metadata": {},
   "outputs": [
    {
     "data": {
      "image/png": "[encoded data removed]",
      "text/plain": [
       "<matplotlib.figure.Figure at 0x21aab2fc470>"
      ]
     },
     "metadata": {},
     "output_type": "display_data"
    }
   ],
   "source": [
    "plt.plot(loss_x_vec, loss_vec, 'k-')\n",
    "plt.title('Training Loss per Generation')\n",
    "plt.xlabel('Generation')\n",
    "plt.ylabel('Loss')\n",
    "plt.show()"
   ]
  },
  {
   "cell_type": "markdown",
   "metadata": {},
   "source": [
    "## 질문!\n",
    "왜 similarity에 마이너스를 붙여서 하는지 모르겠다"
   ]
  },
  {
   "cell_type": "code",
   "execution_count": null,
   "metadata": {
    "collapsed": true
   },
   "outputs": [],
   "source": []
  }
 ],
 "metadata": {
  "kernelspec": {
   "display_name": "Python 3",
   "language": "python",
   "name": "python3"
  },
  "language_info": {
   "codemirror_mode": {
    "name": "ipython",
    "version": 3
   },
   "file_extension": ".py",
   "mimetype": "text/x-python",
   "name": "python",
   "nbconvert_exporter": "python",
   "pygments_lexer": "ipython3",
   "version": "3.6.3"
  }
 },
 "nbformat": 4,
 "nbformat_minor": 2
}
